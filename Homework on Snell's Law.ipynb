{
 "cells": [
  {
   "cell_type": "code",
   "execution_count": 1,
   "id": "6d8d794b",
   "metadata": {
    "scrolled": true
   },
   "outputs": [
    {
     "name": "stdout",
     "output_type": "stream",
     "text": [
      "Hello World\n",
      "afabcbaf e-\n",
      "OOh wee oooh I look just like Buddy Holly\n"
     ]
    }
   ],
   "source": [
    "#Here I am importing any library I may possibly need in the preamble\n",
    "import numpy as np  \n",
    "import matplotlib.pyplot as plt  \n",
    "from scipy.constants import pi \n",
    "from scipy.optimize import fsolve  \n",
    "from sympy import symbols, Eq, solve  \n",
    "from matplotlib.patches import ConnectionPatch \n",
    "import time\n",
    "\n",
    "print ('Hello World')\n",
    "print ('afabcbaf e-')\n",
    "print ('OOh wee oooh I look just like Buddy Holly')\n"
   ]
  },
  {
   "cell_type": "markdown",
   "id": "fc5d947b",
   "metadata": {},
   "source": [
    "## 1\n",
    "A scuba diver on a boat (index of refraction = 1.000) shines a violet light (415 nm) towards the water (index of refraction = 1.336) to illuminate some phosphorescent coral. With what wavelength in nanometers does the light strike the coral? What is the velocity of the light when it strikes the coral, in terms of c? (Hint: the velocity of light in air is 1.00c)\n"
   ]
  },
  {
   "cell_type": "code",
   "execution_count": 2,
   "id": "4ab85242",
   "metadata": {},
   "outputs": [
    {
     "name": "stdout",
     "output_type": "stream",
     "text": [
      "The velocity of light when it strikes the coral is 0.75 c\n",
      "The velocity of light when it strikes the coral is 3/4ths or 75% of the speed of light\n",
      "\n",
      "The wavelength of light in the water is 554.44 nanometers\n",
      "The light transitioned from a medium violet to a neon green color/shade\n"
     ]
    }
   ],
   "source": [
    "#The first step as always is to define each known variable\n",
    "n_air = 1\n",
    "n_water = 1.336\n",
    "wl_v = 415 #nm\n",
    "c = 1 #c\n",
    "\n",
    "    #finding the velocity of the light in the water \n",
    "v_water = c/n_water #in terms of c\n",
    "\n",
    "    #Finding wavelength in the medium \n",
    "wl_medium = (c*wl_v) / v_water\n",
    "    \n",
    "    \n",
    "\n",
    "\n",
    "print ('The velocity of light when it strikes the coral is {0:.2} c' .format (v_water))\n",
    "print ('The velocity of light when it strikes the coral is 3/4ths or 75% of the speed of light')\n",
    "print ()\n",
    "print ('The wavelength of light in the water is' , (wl_medium), 'nanometers')\n",
    "print ('The light transitioned from a medium violet to a neon green color/shade')"
   ]
  },
  {
   "cell_type": "markdown",
   "id": "e09cee65",
   "metadata": {},
   "source": [
    "## 2\n",
    "\n",
    "A double-pane surface consists of a layer of oil on top of a layer of water (index of 1.333). A red laser beam (650nm) moves between the two surfaces, passing through the oil at a speed of 0.71c and into the water at a speed of 0.75c. The incident angle from the oil to the water boundary is 32 degrees. What is the index of refraction for the oil? What is the refracted angle, measured from the normal, for the red laser beam going into the water?"
   ]
  },
  {
   "cell_type": "code",
   "execution_count": 3,
   "id": "10fa4cbb",
   "metadata": {},
   "outputs": [
    {
     "name": "stdout",
     "output_type": "stream",
     "text": [
      "The index of refraction for the oil is 1.408 and this quantity is unitless\n",
      "The angle of refraction as the beam enters the water is 22.106956997262266 degrees\n",
      "\n",
      "sine( 32 ) x  1.4080985915492956 = sine( 22.106956997262266 ) x  1.333\n",
      "\n",
      "0.7461785696016149\n",
      "should be the same as\n",
      "0.5016569034741007\n",
      "\n",
      "0.75\n",
      "should be the same as\n",
      "0.5\n"
     ]
    }
   ],
   "source": [
    "#We use the same process here\n",
    "n_water = 1.333\n",
    "wl_r = 650 #nm\n",
    "v_oil = 0.71 #c\n",
    "v_water = 0.75 #c\n",
    "theta_1 = 32 #degrees\n",
    "\n",
    "#we are looking for the index of refraction for the oil, and the refracted angle\n",
    "\n",
    "#to find the index of refraction for the oil we use snell's law\n",
    "\n",
    "n_oiledpane = n_water*v_water/v_oil #Snail's law\n",
    "\n",
    "print ('The index of refraction for the oil is {0:.4} and this quantity is unitless' .format (n_oiledpane))\n",
    "\n",
    "#to find the angle refraction for the oiled pane we use snell's law again\n",
    "\n",
    "\n",
    "theta1_rad = np.radians(theta_1) #convert to radians\n",
    "    \n",
    "sin_theta2 = (n_air / n_oiledpane) * np.sin(theta1_rad) #Snail's Law\n",
    "sin_theta2 = np.clip(sin_theta2, -1, 1) #Boundary condition for sine function so python doesn't act naughty\n",
    "\n",
    "theta2 = np.arcsin(sin_theta2) #Angle of Refraction\n",
    "    \n",
    "theta2_deg = np.degrees(theta2) #back to degrees because radians do not please me to look at\n",
    "\n",
    "print ('The angle of refraction as the beam enters the water is' , theta2_deg , 'degrees')\n",
    "\n",
    "#Checking my logic \n",
    "print()\n",
    "\n",
    "print ('sine(', theta_1, ') x ', n_oiledpane, '=', 'sine(', theta2_deg, ') x ', n_water)\n",
    "\n",
    "test1 = (np.sin(theta1_rad))*n_oiledpane\n",
    "test2 = sin_theta2*n_water\n",
    "print ()\n",
    "print (test1)\n",
    "print ('should be the same as')\n",
    "print (test2)\n",
    "print ()\n",
    "print ('{0:.2}' .format(test1))\n",
    "print ('should be the same as')\n",
    "print ('{0:.2}' .format(test2))"
   ]
  },
  {
   "cell_type": "code",
   "execution_count": 4,
   "id": "c2de6e5d",
   "metadata": {},
   "outputs": [
    {
     "name": "stdout",
     "output_type": "stream",
     "text": [
      "\n",
      "1.0 should be 1\n",
      "32.0 should be 32\n"
     ]
    }
   ],
   "source": [
    "#where did I go wrong? \n",
    "print()\n",
    "sinnine = np.sin(np.radians(90))\n",
    "sintheta1 = np.sin(np.radians(32))\n",
    "sintheta1deg = np.degrees(np.arcsin(sintheta1))\n",
    "\n",
    "\n",
    "print (sinnine, 'should be 1')\n",
    "print (sintheta1deg, 'should be 32')\n",
    "\n"
   ]
  },
  {
   "cell_type": "code",
   "execution_count": 5,
   "id": "5a28f982",
   "metadata": {},
   "outputs": [
    {
     "name": "stdout",
     "output_type": "stream",
     "text": [
      "The index of refraction for the oil is 1.408 and this quantity is unitless\n",
      "The angle of refraction as the beam enters the water is 22.106956997262266 degrees\n",
      "\n",
      "0.7461785696016149\n",
      "should be the same as\n",
      "0.5016569034741007\n",
      "\n",
      "0.75\n",
      "should be the same as\n",
      "0.5\n"
     ]
    }
   ],
   "source": [
    "#LET\"S TRY THIS AGAIN I GUESS\n",
    "\n",
    "\n",
    "n_water = 1.333\n",
    "wl_r = 650 #nm\n",
    "v_oil = 0.71 #c\n",
    "v_water = 0.75 #c\n",
    "theta_1 = 32 #degrees\n",
    "\n",
    "#we are looking for the index of refraction for the oil, and the refracted angle\n",
    "\n",
    "#to find the index of refraction for the oil we use snell's law\n",
    "\n",
    "n_oiledpane = n_water*v_water/v_oil #Snail's law\n",
    "\n",
    "print ('The index of refraction for the oil is {0:.4} and this quantity is unitless' .format (n_oiledpane))\n",
    "\n",
    "#to find the angle refraction for the oiled pane we use snell's law again\n",
    "    \n",
    "theta2 = np.degrees(np.arcsin((n_air / n_oiledpane) * np.sin(np.radians(theta_1))))\n",
    "\n",
    "print ('The angle of refraction as the beam enters the water is' , theta2 , 'degrees')\n",
    "\n",
    "test1 = (np.sin(theta1_rad))*n_oiledpane\n",
    "test2 = (np.sin(np.radians(theta2)))*n_water\n",
    "print ()\n",
    "print (test1)\n",
    "print ('should be the same as')\n",
    "print (test2)\n",
    "print ()\n",
    "print ('{0:.2}' .format(test1))\n",
    "print ('should be the same as')\n",
    "print ('{0:.2}' .format(test2))"
   ]
  },
  {
   "cell_type": "markdown",
   "id": "b879a5b6",
   "metadata": {},
   "source": [
    "it must be the index of refraction that is the issue then"
   ]
  },
  {
   "cell_type": "code",
   "execution_count": 6,
   "id": "cc5bc882",
   "metadata": {},
   "outputs": [
    {
     "name": "stdout",
     "output_type": "stream",
     "text": [
      "The index of refraction for the oil is 1.408 and this quantity is unitless\n",
      "The angle of refraction as the beam enters the water is 23.97850896963218 degrees\n",
      "\n",
      "0.746178569601615\n",
      "should be the same as\n",
      "0.5417231398829164\n",
      "\n",
      "0.75\n",
      "should be the same as\n",
      "0.54\n"
     ]
    }
   ],
   "source": [
    "#Let's try this again again\n",
    "\n",
    "\n",
    "n_water = 1.333\n",
    "wl_r = 650 #nm\n",
    "v_oil = 0.71 #c\n",
    "v_water = 0.75 #c\n",
    "theta_1 = 32 #degrees\n",
    "\n",
    "#we are looking for the index of refraction for the oil, and the refracted angle\n",
    "\n",
    "#to find the index of refraction for the oil we use snell's law\n",
    "\n",
    "n_oil = (v_water/v_oil)*n_water #Snail's law\n",
    "\n",
    "print ('The index of refraction for the oil is {0:.4} and this quantity is unitless' .format (n_oiledpane))\n",
    "\n",
    "#to find the angle refraction for the oiled pane we use snell's law again\n",
    "    \n",
    "theta2 = np.degrees(np.arcsin((n_air / n_oil)) * np.sin(np.radians(theta_1)))\n",
    "\n",
    "print ('The angle of refraction as the beam enters the water is' , theta2 , 'degrees')\n",
    "\n",
    "test1 = (np.sin(theta1_rad))*n_oil\n",
    "test2 = (np.sin(np.radians(theta2)))*n_water\n",
    "print ()\n",
    "print (test1)\n",
    "print ('should be the same as')\n",
    "print (test2)\n",
    "print ()\n",
    "print ('{0:.2}' .format(test1))\n",
    "print ('should be the same as')\n",
    "print ('{0:.2}' .format(test2))"
   ]
  },
  {
   "cell_type": "code",
   "execution_count": 11,
   "id": "05262556",
   "metadata": {},
   "outputs": [
    {
     "name": "stdout",
     "output_type": "stream",
     "text": [
      "0.7471861625688189\n",
      "should =\n",
      "0.5409597352908143\n",
      "\n",
      "I looked up the index of refraction for oil and I think i got it right immediately and was simply thrown off because of the problem not being directly applicable to a real-life test state :/\n",
      "\n",
      "\n",
      "\n",
      "\n",
      "\n",
      "\n",
      "\n",
      "\n",
      "Goodbye world!\n",
      "Deleting system 32 in\n",
      "1  \n",
      "System 32 deleted! Good Luck! :)\n"
     ]
    }
   ],
   "source": [
    "#okay using numbers then\n",
    "theta1= 32\n",
    "theta2 = 24\n",
    "n1 =1.41\n",
    "n2 =1.33\n",
    "\n",
    "ugh = (n1*np.sin(np.radians(theta1)))\n",
    "why = (n2*np.sin(np.radians(theta2)))\n",
    "\n",
    "print (ugh)\n",
    "print ('should =')\n",
    "print (why)\n",
    "print ()\n",
    "print ('I looked up the index of refraction for oil and I think i got it right immediately and was simply thrown off because of the problem not being directly applicable to a real-life test state :/')\n",
    "print()\n",
    "print()\n",
    "print()\n",
    "print()\n",
    "print()\n",
    "print()\n",
    "print()\n",
    "print()\n",
    "\n",
    "seconds = 30\n",
    "\n",
    "\n",
    "print('Goodbye world!')\n",
    "print('Deleting system 32 in')\n",
    "\n",
    "while seconds > 0:\n",
    "    print(f'{seconds} ', end='\\r')  # \\r is used to overwrite the previous line\n",
    "    time.sleep(1)\n",
    "    seconds -= 1\n",
    "\n",
    "print('\\nSystem 32 deleted! Good Luck! :)')"
   ]
  },
  {
   "cell_type": "code",
   "execution_count": null,
   "id": "7bd593b6",
   "metadata": {},
   "outputs": [],
   "source": []
  }
 ],
 "metadata": {
  "kernelspec": {
   "display_name": "Python 3 (ipykernel)",
   "language": "python",
   "name": "python3"
  },
  "language_info": {
   "codemirror_mode": {
    "name": "ipython",
    "version": 3
   },
   "file_extension": ".py",
   "mimetype": "text/x-python",
   "name": "python",
   "nbconvert_exporter": "python",
   "pygments_lexer": "ipython3",
   "version": "3.11.4"
  }
 },
 "nbformat": 4,
 "nbformat_minor": 5
}
